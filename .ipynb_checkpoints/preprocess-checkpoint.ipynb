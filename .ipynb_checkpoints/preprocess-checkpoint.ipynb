{
 "cells": [
  {
   "cell_type": "code",
   "execution_count": 12,
   "metadata": {},
   "outputs": [],
   "source": [
    "import pandas as pd\n",
    "import re"
   ]
  },
  {
   "cell_type": "code",
   "execution_count": 4,
   "metadata": {},
   "outputs": [],
   "source": [
    "data = pd.read_json('all_scripts_raw.json')"
   ]
  },
  {
   "cell_type": "code",
   "execution_count": 130,
   "metadata": {},
   "outputs": [],
   "source": [
    "someshit=data['DS9'][0]"
   ]
  },
  {
   "cell_type": "code",
   "execution_count": 166,
   "metadata": {},
   "outputs": [
    {
     "name": "stdout",
     "output_type": "stream",
     "text": [
      "\n",
      "\n",
      "\n",
      "\n",
      "\n",
      "\n",
      "\n",
      "\n",
      "\n"
     ]
    }
   ],
   "source": [
    "news = re.split('\\n\\[.*\\]\\n\\n', someshit)\n",
    "# print(news[12])\n",
    "\n",
    "dia = re.split('[A-Z]+:', news[29])\n",
    "dia = dia[1 : ]\n",
    "for d in dia:\n",
    "    print('')\n",
    "char = re.findall('[A-Z]+:', news[29])\n",
    "# print(char)"
   ]
  },
  {
   "cell_type": "code",
   "execution_count": 196,
   "metadata": {},
   "outputs": [],
   "source": [
    "pair = []\n",
    "for episode in data['DS9']:\n",
    "    if(type(episode) == str):\n",
    "        scenes = re.split('\\n\\[.*\\]\\n\\n', episode)\n",
    "        for scene in scenes:\n",
    "#             if(news[29] == scene):\n",
    "                dia = re.split('[A-Z]+:', scene)\n",
    "                dia = dia[1 : ]\n",
    "                char = re.findall('[A-Z]+:', scene)\n",
    "                pair.append([dia, char])\n"
   ]
  },
  {
   "cell_type": "code",
   "execution_count": null,
   "metadata": {},
   "outputs": [],
   "source": []
  }
 ],
 "metadata": {
  "interpreter": {
   "hash": "b0fa6594d8f4cbf19f97940f81e996739fb7646882a419484c72d19e05852a7e"
  },
  "kernelspec": {
   "display_name": "Python 3 (ipykernel)",
   "language": "python",
   "name": "python3"
  },
  "language_info": {
   "codemirror_mode": {
    "name": "ipython",
    "version": 3
   },
   "file_extension": ".py",
   "mimetype": "text/x-python",
   "name": "python",
   "nbconvert_exporter": "python",
   "pygments_lexer": "ipython3",
   "version": "3.9.6"
  }
 },
 "nbformat": 4,
 "nbformat_minor": 2
}
